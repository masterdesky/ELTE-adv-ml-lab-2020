{
 "cells": [
  {
   "cell_type": "code",
   "execution_count": 23,
   "metadata": {},
   "outputs": [],
   "source": [
    "import os"
   ]
  },
  {
   "cell_type": "code",
   "execution_count": 24,
   "metadata": {},
   "outputs": [
    {
     "data": {
      "text/plain": [
       "['ckpt-95.data-00000-of-00002',\n",
       " 'ckpt-85.data-00001-of-00002',\n",
       " 'ckpt-90.index',\n",
       " 'ckpt-85.data-00000-of-00002',\n",
       " 'ckpt-95.data-00001-of-00002',\n",
       " 'ckpt-85.index',\n",
       " 'ckpt-75.index',\n",
       " 'ckpt-95.index',\n",
       " 'ckpt-80.data-00000-of-00002',\n",
       " 'ckpt-75.data-00001-of-00002',\n",
       " 'ckpt-90.data-00001-of-00002',\n",
       " 'checkpoint',\n",
       " 'ckpt-75.data-00000-of-00002',\n",
       " 'ckpt-90.data-00000-of-00002',\n",
       " 'ckpt-80.index',\n",
       " 'ckpt-80.data-00001-of-00002']"
      ]
     },
     "execution_count": 24,
     "metadata": {},
     "output_type": "execute_result"
    }
   ],
   "source": [
    "os.listdir('./checkpoints/train/')"
   ]
  },
  {
   "cell_type": "code",
   "execution_count": null,
   "metadata": {},
   "outputs": [],
   "source": []
  },
  {
   "cell_type": "code",
   "execution_count": null,
   "metadata": {},
   "outputs": [],
   "source": []
  }
 ],
 "metadata": {
  "kernelspec": {
   "display_name": "Python 3",
   "language": "python",
   "name": "python3"
  },
  "language_info": {
   "codemirror_mode": {
    "name": "ipython",
    "version": 3
   },
   "file_extension": ".py",
   "mimetype": "text/x-python",
   "name": "python",
   "nbconvert_exporter": "python",
   "pygments_lexer": "ipython3",
   "version": "3.7.7"
  }
 },
 "nbformat": 4,
 "nbformat_minor": 4
}
