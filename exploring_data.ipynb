{
 "cells": [
  {
   "cell_type": "code",
   "execution_count": null,
   "metadata": {},
   "outputs": [],
   "source": [
    "import os\n",
    "import json\n",
    "import numpy as np\n",
    "from scipy import interpolate\n",
    "\n",
    "import seaborn as sns\n",
    "import matplotlib as mpl\n",
    "import matplotlib.cm as cm\n",
    "import matplotlib.pyplot as plt\n",
    "from matplotlib.patches import Rectangle"
   ]
  },
  {
   "cell_type": "markdown",
   "metadata": {},
   "source": [
    "#### Just the regular seaborn and matplotlib parameter tuning"
   ]
  },
  {
   "cell_type": "code",
   "execution_count": null,
   "metadata": {},
   "outputs": [],
   "source": [
    "# Set axtick dimensions\n",
    "major_size = 6\n",
    "major_width = 1.2\n",
    "minor_size = 3\n",
    "minor_width = 1\n",
    "mpl.rcParams['xtick.major.size'] = major_size\n",
    "mpl.rcParams['xtick.major.width'] = major_width\n",
    "mpl.rcParams['xtick.minor.size'] = minor_size\n",
    "mpl.rcParams['xtick.minor.width'] = minor_width\n",
    "mpl.rcParams['ytick.major.size'] = major_size\n",
    "mpl.rcParams['ytick.major.width'] = major_width\n",
    "mpl.rcParams['ytick.minor.size'] = minor_size\n",
    "mpl.rcParams['ytick.minor.width'] = minor_width\n",
    "\n",
    "# Seaborn style settings\n",
    "sns.set_style({'axes.axisbelow': True,\n",
    "               'axes.edgecolor': '.1',\n",
    "               'axes.facecolor': 'white',\n",
    "               'axes.grid': True,\n",
    "               'axes.labelcolor': '.15',\n",
    "               'axes.spines.bottom': True,\n",
    "               'axes.spines.left': True,\n",
    "               'axes.spines.right': True,\n",
    "               'axes.spines.top': True,\n",
    "               'figure.facecolor': 'white',\n",
    "               'font.family': ['sans-serif'],\n",
    "               'font.sans-serif': ['Arial',\n",
    "                'DejaVu Sans',\n",
    "                'Liberation Sans',\n",
    "                'Bitstream Vera Sans',\n",
    "                'sans-serif'],\n",
    "               'grid.color': '.8',\n",
    "               'grid.linestyle': '--',\n",
    "               'image.cmap': 'rocket',\n",
    "               'lines.solid_capstyle': 'round',\n",
    "               'patch.edgecolor': 'w',\n",
    "               'patch.force_edgecolor': True,\n",
    "               'text.color': '.15',\n",
    "               'xtick.bottom': True,\n",
    "               'xtick.color': '.15',\n",
    "               'xtick.direction': 'in',\n",
    "               'xtick.top': True,\n",
    "               'ytick.color': '.15',\n",
    "               'ytick.direction': 'in',\n",
    "               'ytick.left': True,\n",
    "               'ytick.right': True})"
   ]
  },
  {
   "cell_type": "markdown",
   "metadata": {},
   "source": [
    "## Loading train data"
   ]
  },
  {
   "cell_type": "code",
   "execution_count": null,
   "metadata": {},
   "outputs": [],
   "source": [
    "tr_data_path = 'D:\\\\MS COCO\\\\train2014\\\\'"
   ]
  },
  {
   "cell_type": "markdown",
   "metadata": {},
   "source": [
    "Collect image names"
   ]
  },
  {
   "cell_type": "code",
   "execution_count": null,
   "metadata": {},
   "outputs": [],
   "source": [
    "tr_prefix = 'COCO_train2014_'\n",
    "tr_suffix = '.jpg'\n",
    "# Image ID\n",
    "# Always 12 numbers, starting with zeros\n",
    "tr_index = []\n",
    "for name in os.listdir(tr_data_path):\n",
    "    tr_index.append(int(name.split('_')[-1].split('.')[0]))"
   ]
  },
  {
   "cell_type": "markdown",
   "metadata": {},
   "source": [
    "Load an example image"
   ]
  },
  {
   "cell_type": "code",
   "execution_count": null,
   "metadata": {},
   "outputs": [],
   "source": [
    "def make_image_id(index):\n",
    "    \n",
    "    zeros = (12 - len(str(index))) * '0'\n",
    "    return zeros + str(index)"
   ]
  },
  {
   "cell_type": "code",
   "execution_count": null,
   "metadata": {},
   "outputs": [],
   "source": [
    "# Get random filename\n",
    "tr_rand_index = make_image_id(np.random.choice(tr_index))\n",
    "tr_expample = tr_data_path + tr_prefix + tr_rand_index + tr_suffix\n",
    "# Load image\n",
    "tr_example_img = plt.imread(tr_expample)"
   ]
  },
  {
   "cell_type": "code",
   "execution_count": null,
   "metadata": {},
   "outputs": [],
   "source": [
    "tr_fig_norm = 40\n",
    "fig, axes = plt.subplots(figsize=tuple(t/tr_fig_norm for t in tr_example_img.shape[:2]))\n",
    "\n",
    "axes.imshow(tr_example_img)\n",
    "\n",
    "plt.show()"
   ]
  },
  {
   "cell_type": "markdown",
   "metadata": {},
   "source": [
    "## Load numerous samples"
   ]
  },
  {
   "cell_type": "code",
   "execution_count": null,
   "metadata": {},
   "outputs": [],
   "source": [
    "n_samples = 5\n",
    "tr_fig_norm = 40\n",
    "fig, axes = plt.subplots(nrows=1, ncols=n_samples, figsize=(n_samples*8, 1*8))\n",
    "\n",
    "for i in range(n_samples):\n",
    "    # Get random filename\n",
    "    tr_rand_index = make_image_id(np.random.choice(tr_index))\n",
    "    tr_expample = tr_data_path + tr_prefix + tr_rand_index + tr_suffix\n",
    "    # Load image\n",
    "    tr_example_img = plt.imread(tr_expample)\n",
    "\n",
    "    axes[i].imshow(tr_example_img)\n",
    "    axes[i].axis('off')\n",
    "\n",
    "plt.savefig('./documentation/tex/img/sample_images.png',\n",
    "            bbox_inches='tight')\n",
    "plt.show()"
   ]
  },
  {
   "cell_type": "markdown",
   "metadata": {},
   "source": [
    "## Loading train labels"
   ]
  },
  {
   "cell_type": "code",
   "execution_count": null,
   "metadata": {},
   "outputs": [],
   "source": [
    "label_path = 'D:\\\\MS COCO\\\\annotations\\\\'"
   ]
  },
  {
   "cell_type": "code",
   "execution_count": null,
   "metadata": {},
   "outputs": [],
   "source": [
    "tr_caps_json = 'captions_train2014.json'\n",
    "with open(label_path + tr_caps_json, 'r') as f:\n",
    "    tr_caps = json.load(f)"
   ]
  },
  {
   "cell_type": "code",
   "execution_count": null,
   "metadata": {},
   "outputs": [],
   "source": [
    "tr_labels_json = 'instances_train2014.json'\n",
    "with open(label_path + tr_labels_json, 'r') as f:\n",
    "    tr_labels = json.load(f)"
   ]
  },
  {
   "cell_type": "code",
   "execution_count": null,
   "metadata": {},
   "outputs": [],
   "source": [
    "tr_caption_keys = list(tr_caps.keys())\n",
    "tr_annot_keys = list(tr_labels.keys())"
   ]
  },
  {
   "cell_type": "code",
   "execution_count": null,
   "metadata": {},
   "outputs": [],
   "source": [
    "print('Captions:', tr_caption_keys)\n",
    "print('Labels:', tr_annot_keys)"
   ]
  },
  {
   "cell_type": "code",
   "execution_count": null,
   "metadata": {},
   "outputs": [],
   "source": [
    "tr_caps['annotations'][0]"
   ]
  },
  {
   "cell_type": "code",
   "execution_count": null,
   "metadata": {},
   "outputs": [],
   "source": [
    "#tr_labels['annotations'][0]"
   ]
  },
  {
   "cell_type": "markdown",
   "metadata": {},
   "source": [
    "### Collect supercategories"
   ]
  },
  {
   "cell_type": "code",
   "execution_count": null,
   "metadata": {},
   "outputs": [],
   "source": [
    "tr_labels['categories']"
   ]
  },
  {
   "cell_type": "code",
   "execution_count": null,
   "metadata": {},
   "outputs": [],
   "source": [
    "super_cats = list(set([entry['supercategory'] for entry in tr_labels['categories']]))\n",
    "sub_ids = {entry['id']: idx for idx, entry in enumerate(tr_labels['categories'])}"
   ]
  },
  {
   "cell_type": "code",
   "execution_count": null,
   "metadata": {},
   "outputs": [],
   "source": [
    "super_cats"
   ]
  },
  {
   "cell_type": "code",
   "execution_count": null,
   "metadata": {},
   "outputs": [],
   "source": [
    "def set_super_cat_colors(super_cats, cmap, vmin=0, vmax=1):\n",
    "    \n",
    "    assert vmin >= 0, \"Parameter \\'vmin\\' should be >=0 !\"\n",
    "    assert vmax <= 1, \"Parameter \\'vmax\\' should be <=1 !\"\n",
    "    \n",
    "    cmap_values = np.linspace(vmin, vmax, len(super_cats))\n",
    "    colors = {cat: cmap(value) for cat, value in zip(super_cats, cmap_values)}\n",
    "    \n",
    "    return colors"
   ]
  },
  {
   "cell_type": "code",
   "execution_count": null,
   "metadata": {},
   "outputs": [],
   "source": [
    "super_cat_colors = set_super_cat_colors(super_cats=super_cats, cmap=cm.jet, vmin=0, vmax=1)"
   ]
  },
  {
   "cell_type": "markdown",
   "metadata": {},
   "source": [
    "## Sorting annotation entries by image IDs"
   ]
  },
  {
   "cell_type": "code",
   "execution_count": null,
   "metadata": {},
   "outputs": [],
   "source": [
    "tr_sorted_caps = sorted(tr_caps['annotations'], key=lambda x: x['image_id'], reverse=False)\n",
    "tr_sorted_annot = sorted(tr_labels['annotations'], key=lambda x: x['image_id'], reverse=False)\n",
    "\n",
    "tr_index_in_caps = [entry['image_id'] for entry in tr_sorted_caps]\n",
    "tr_index_in_annot = [entry['image_id'] for entry in tr_sorted_annot]"
   ]
  },
  {
   "cell_type": "markdown",
   "metadata": {},
   "source": [
    "## Load a random train image with annotations"
   ]
  },
  {
   "cell_type": "markdown",
   "metadata": {},
   "source": [
    "Choose a random image ID"
   ]
  },
  {
   "cell_type": "code",
   "execution_count": null,
   "metadata": {},
   "outputs": [],
   "source": [
    "tr_rand_index = np.random.choice(tr_index)\n",
    "print('Random image ID: {0}'.format(tr_rand_index))"
   ]
  },
  {
   "cell_type": "code",
   "execution_count": null,
   "metadata": {},
   "outputs": [],
   "source": [
    "tr_expample = tr_data_path + tr_prefix + make_image_id(tr_rand_index) + tr_suffix\n",
    "# Load image\n",
    "tr_example_img = plt.imread(tr_expample)"
   ]
  },
  {
   "cell_type": "code",
   "execution_count": null,
   "metadata": {},
   "outputs": [],
   "source": [
    "tr_fig_norm = 40\n",
    "fig, axes = plt.subplots(figsize=tuple(t/tr_fig_norm for t in tr_example_img.shape[:2]))\n",
    "\n",
    "axes.imshow(tr_example_img)\n",
    "\n",
    "plt.show()"
   ]
  },
  {
   "cell_type": "markdown",
   "metadata": {},
   "source": [
    "Collect all entries from `tr_caps['annotations']` and `tr_labels['annotations']`, which is linked to the randomly chosen image"
   ]
  },
  {
   "cell_type": "code",
   "execution_count": null,
   "metadata": {},
   "outputs": [],
   "source": [
    "tr_rand_caps_locs = np.where(tr_index_in_caps == tr_rand_index)[0]\n",
    "tr_rand_annot_locs = np.where(tr_index_in_annot == tr_rand_index)[0]"
   ]
  },
  {
   "cell_type": "code",
   "execution_count": null,
   "metadata": {},
   "outputs": [],
   "source": [
    "print(tr_rand_caps_locs)\n",
    "print(tr_rand_annot_locs)"
   ]
  },
  {
   "cell_type": "code",
   "execution_count": null,
   "metadata": {},
   "outputs": [],
   "source": [
    "tf_rand_caps = [tr_sorted_caps[idx] for idx in tr_rand_caps_locs]\n",
    "tf_rand_annot = [tr_sorted_annot[idx] for idx in tr_rand_annot_locs]"
   ]
  },
  {
   "cell_type": "code",
   "execution_count": null,
   "metadata": {},
   "outputs": [],
   "source": [
    "tr_fig_norm = 40\n",
    "fig, axes = plt.subplots(figsize=tuple(t/tr_fig_norm for t in tr_example_img.shape[:2]))\n",
    "\n",
    "axislegendsize = 15\n",
    "\n",
    "axes.imshow(tr_example_img)\n",
    "\n",
    "caption = 'Captions:'\n",
    "for idx, entry in enumerate(tf_rand_caps):\n",
    "    caption += '\\n{0}. {1}'.format(idx+1, entry['caption'])\n",
    "axes.set_title(caption)\n",
    "\n",
    "for annot in tf_rand_annot:\n",
    "    # Get category and supercategory\n",
    "    cat_id = annot['category_id']\n",
    "    super_cat = tr_labels['categories'][sub_ids[cat_id]]['supercategory']\n",
    "    sub_cat = tr_labels['categories'][sub_ids[cat_id]]['name']\n",
    "    color = super_cat_colors[super_cat]\n",
    "    \n",
    "    tr_rand_bbox = annot['bbox']\n",
    "    rect = Rectangle(xy=tr_rand_bbox[:2], width=tr_rand_bbox[2], height=tr_rand_bbox[3],\n",
    "                     lw=2, ec=color, fc='none', label=sub_cat)\n",
    "    axes.add_patch(rect)\n",
    "\n",
    "axes.legend(fontsize=axislegendsize,\n",
    "            bbox_to_anchor=(1.04,0.5), loc=\"center left\", borderaxespad=0)\n",
    "    \n",
    "plt.show()"
   ]
  },
  {
   "cell_type": "code",
   "execution_count": null,
   "metadata": {},
   "outputs": [],
   "source": []
  },
  {
   "cell_type": "code",
   "execution_count": null,
   "metadata": {},
   "outputs": [],
   "source": []
  }
 ],
 "metadata": {
  "kernelspec": {
   "display_name": "Python 3 (ipykernel)",
   "language": "python",
   "name": "python3"
  },
  "language_info": {
   "codemirror_mode": {
    "name": "ipython",
    "version": 3
   },
   "file_extension": ".py",
   "mimetype": "text/x-python",
   "name": "python",
   "nbconvert_exporter": "python",
   "pygments_lexer": "ipython3",
   "version": "3.9.10"
  }
 },
 "nbformat": 4,
 "nbformat_minor": 4
}
